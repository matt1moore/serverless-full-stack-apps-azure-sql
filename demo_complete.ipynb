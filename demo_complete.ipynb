{
 "cells": [
  {
   "attachments": {},
   "cell_type": "markdown",
   "metadata": {},
   "source": [
    "# Step 1: Create the Start-up Resources\n",
    "- Create a resource group for managing all of the resources we are creating\n",
    "- Create a storage account for specifically managing all azure data objects\n",
    "- Create a cloud shell terminal resource\n",
    "    - Select all the minimum basic requirements so payment is minimal\n",
    "    - Note: Copying is normal for apple but for windows use (Shift + Insert Key)\n",
    "- Eveyrthing else can be done through the shell"
   ]
  },
  {
   "cell_type": "code",
   "execution_count": 3,
   "metadata": {
    "vscode": {
     "languageId": "powershell"
    }
   },
   "outputs": [
    {
     "ename": "SyntaxError",
     "evalue": "invalid syntax. Perhaps you forgot a comma? (2074088276.py, line 2)",
     "output_type": "error",
     "traceback": [
      "\u001b[1;36m  Cell \u001b[1;32mIn[3], line 2\u001b[1;36m\u001b[0m\n\u001b[1;33m    (Invoke-WebRequest -Uri \"https://ipinfo.io/ip\").Content\u001b[0m\n\u001b[1;37m     ^\u001b[0m\n\u001b[1;31mSyntaxError\u001b[0m\u001b[1;31m:\u001b[0m invalid syntax. Perhaps you forgot a comma?\n"
     ]
    }
   ],
   "source": [
    "# Obtain your vpn information with the following code locally\n",
    "(Invoke-WebRequest -Uri \"https://ipinfo.io/ip\").Content"
   ]
  },
  {
   "attachments": {},
   "cell_type": "markdown",
   "metadata": {},
   "source": [
    "# Step 2: Set Up Login Information for our SQL Database\n",
    "- "
   ]
  },
  {
   "cell_type": "code",
   "execution_count": null,
   "metadata": {
    "vscode": {
     "languageId": "powershell"
    }
   },
   "outputs": [],
   "source": [
    "# Collect password \n",
    "$adminSqlLogin = \"cloudadmin\"\n",
    "$password = Read-Host \"Your username is 'cloudadmin'. Please enter a password for your Azure SQL Database server that meets the password requirements\"\n",
    "# Prompt for local ip address\n",
    "$ipAddress = Read-Host \"Disconnect your VPN, open PowerShell on your machine and run '(Invoke-WebRequest -Uri \"https://ipinfo.io/ip\").Content'. Please enter the value (include periods) next to 'Address': \"\n",
    "Write-Host \"Password and IP Address stored\""
   ]
  },
  {
   "cell_type": "code",
   "execution_count": null,
   "metadata": {
    "vscode": {
     "languageId": "powershell"
    }
   },
   "outputs": [],
   "source": [
    "# Get resource group and location and random string\n",
    "$resourceGroupName = \"demo-resource\"\n",
    "$resourceGroup = Get-AzResourceGroup | Where ResourceGroupName -like $resourceGroupName\n",
    "$uniqueID = Get-Random -Minimum 100000 -Maximum 1000000\n",
    "$location = $resourceGroup.Location\n",
    "# The logical server name has to be unique in the system\n",
    "$serverName = \"demo-server$($uniqueID)\"\n",
    "# The sample database name\n",
    "$databaseName = \"demo-sql-db\"    \n",
    "Write-Host \"Please note your unique ID for future exercises in this module:\"  \n",
    "Write-Host $uniqueID\n",
    "Write-Host \"Your resource group name is:\"\n",
    "Write-Host $resourceGroupName\n",
    "Write-Host \"Your resources were deployed in the following region:\"\n",
    "Write-Host $location\n",
    "Write-Host \"Your server name is:\"\n",
    "Write-Host $serverName"
   ]
  },
  {
   "cell_type": "code",
   "execution_count": null,
   "metadata": {
    "vscode": {
     "languageId": "powershell"
    }
   },
   "outputs": [],
   "source": [
    "# Create a new server with a system wide unique server name\n",
    "$server = New-AzSqlServer -ResourceGroupName $resourceGroupName `\n",
    "    -ServerName $serverName `\n",
    "    -Location $location `\n",
    "    -SqlAdministratorCredentials $(New-Object -TypeName System.Management.Automation.PSCredential -ArgumentList $adminSqlLogin, $(ConvertTo-SecureString -String $password -AsPlainText -Force))\n",
    "# Create a server firewall rule that allows access from the specified IP range and all Azure services\n",
    "$serverFirewallRule = New-AzSqlServerFirewallRule `\n",
    "    -ResourceGroupName $resourceGroupName `\n",
    "    -ServerName $serverName `\n",
    "    -FirewallRuleName \"AllowedIPs\" `\n",
    "    -StartIpAddress $ipAddress -EndIpAddress $ipAddress \n",
    "$allowAzureIpsRule = New-AzSqlServerFirewallRule `\n",
    "    -ResourceGroupName $resourceGroupName `\n",
    "    -ServerName $serverName `\n",
    "    -AllowAllAzureIPs\n",
    "# Create a database\n",
    "$database = New-AzSqlDatabase  -ResourceGroupName $resourceGroupName `\n",
    "    -ServerName $serverName `\n",
    "    -DatabaseName $databaseName `\n",
    "    -Edition \"GeneralPurpose\" -Vcore 1 -ComputeGeneration \"Gen5\" `\n",
    "    -ComputeModel Serverless -MinimumCapacity 0.5\n",
    "Write-Host \"Database deployed.\""
   ]
  },
  {
   "cell_type": "code",
   "execution_count": null,
   "metadata": {
    "vscode": {
     "languageId": "powershell"
    }
   },
   "outputs": [],
   "source": [
    "$storageAccountName = $(\"storageaccount$($uniqueID)\")\n",
    "$storageAccount = New-AzStorageAccount -ResourceGroupName $resourceGroupName -AccountName $storageAccountName -Location $location -SkuName Standard_GRS\n",
    "$resourceGroupName = \"demo-resource\"\n",
    "$resourceGroup = Get-AzResourceGroup | Where ResourceGroupName -like $resourceGroupName\n",
    "$uniqueID = Get-Random -Minimum 100000 -Maximum 1000000\n",
    "$location = $resourceGroup.Location\n",
    "# Azure function name\n",
    "$azureFunctionName = $(\"azfunc$($uniqueID)\")\n",
    "# Get storage account name\n",
    "$storageAccountName = (Get-AzStorageAccount -ResourceGroup $resourceGroupName).StorageAccountName\n",
    "Write-Host \"Your storage account name is:\"\n",
    "Write-Host $storageAccountName"
   ]
  },
  {
   "attachments": {},
   "cell_type": "markdown",
   "metadata": {},
   "source": [
    "# Step 6: Deploy the Azure Function"
   ]
  },
  {
   "cell_type": "code",
   "execution_count": null,
   "metadata": {
    "vscode": {
     "languageId": "powershell"
    }
   },
   "outputs": [],
   "source": [
    "$functionApp = New-AzFunctionApp -Name $azureFunctionName `\n",
    "    -ResourceGroupName $resourceGroupName -StorageAccount $storageAccountName `\n",
    "    -FunctionsVersion 3 -RuntimeVersion 3.8 -Runtime python -Location $location"
   ]
  },
  {
   "attachments": {},
   "cell_type": "markdown",
   "metadata": {},
   "source": [
    "# Step 7: Deploy an Azure Logic App\n",
    "- Have your GitHub Repo ready to copy\n",
    "    - URL: https://github.com/matt1moore/serverless-full-stack-apps-azure-sql.git"
   ]
  },
  {
   "cell_type": "code",
   "execution_count": null,
   "metadata": {
    "vscode": {
     "languageId": "powershell"
    }
   },
   "outputs": [],
   "source": [
    "# Resource group name and resource group\n",
    "$resourceGroupName = \"demo-resource\"\n",
    "$resourceGroup = Get-AzResourceGroup | Where ResourceGroupName -like $resourceGroupName\n",
    "$location = $resourceGroup.Location\n",
    "# Get the repository name\n",
    "$appRepository = Read-Host \"Enter your GitHub repository URL (for example, 'https://github.com/[username]/serverless-full-stack-apps-azure-sql'):\"\n",
    "# Clone the repo - note this asks for the token\n",
    "$cloneRepository = git clone $appRepository\n",
    "# Get subscription ID \n",
    "$subId = [Regex]::Matches($resourceGroup.ResourceId, \"(\\/subscriptions\\/)+(.*\\/)+(.*\\/)\").Groups[2].Value\n",
    "$subId = $subId.Substring(0,$subId.Length-1)\n",
    "# Deploy logic app\n",
    "az deployment group create --name DeployResources --resource-group $resourceGroupName `\n",
    "    ` --template-file ./serverless-full-stack-apps-azure-sql/deployment-scripts/template.json `\n",
    "    --parameters subscription_id=$subId location=$location  \n",
    "Write-Host \"Logic App deployed.\""
   ]
  },
  {
   "attachments": {},
   "cell_type": "markdown",
   "metadata": {},
   "source": [
    "# Step 8: Configure the Logic App\n",
    "- Adjust the HTTP POST URL\n",
    "- Adjust the request JSON Schema\n",
    "- Sign into your outlook account\n",
    "- Adjust the Body, Subject and To clauses of the email"
   ]
  },
  {
   "attachments": {},
   "cell_type": "markdown",
   "metadata": {},
   "source": [
    "# Step 9: Configure the Azure Function"
   ]
  },
  {
   "cell_type": "code",
   "execution_count": null,
   "metadata": {
    "vscode": {
     "languageId": "powershell"
    }
   },
   "outputs": [],
   "source": [
    "# Determine the connection string for the database\n",
    "# This can be found easily within the Azure Web App in ODBC formatting\n",
    "Driver={ODBC Driver 17 for SQL Server};Server=[serverName].database.windows.net,1433;Database=demo-sql-db;UID=cloudadmin;PWD=[yourPassword];Connection Timeout=30;"
   ]
  },
  {
   "attachments": {},
   "cell_type": "markdown",
   "metadata": {},
   "source": [
    "# Step 9: Deploy a Static Web App\n",
    "- First go into github and generate a new token checking all the boxes"
   ]
  },
  {
   "cell_type": "code",
   "execution_count": null,
   "metadata": {
    "vscode": {
     "languageId": "powershell"
    }
   },
   "outputs": [],
   "source": [
    "# Get resource group and location and random string\n",
    "$resourceGroupName = \"demo-resource\"\n",
    "$resourceGroup = Get-AzResourceGroup | Where ResourceGroupName -like $resourceGroupName\n",
    "$uniqueID = Get-Random -Minimum 100000 -Maximum 1000000\n",
    "$location = $resourceGroup.Location\n",
    "# Azure static web app name\n",
    "$webAppName = $(\"demo-app$($uniqueID)\")\n",
    "# Get the repository name\n",
    "$appRepository = Read-Host \"Please enter the forked URL (for example, https://github.com/<username>/serverless-full-stack-apps-azure-sql):\"\n",
    "# Get user's GitHub personal access token\n",
    "$githubToken = (Read-Host \"In your GitHub account settings, near the bottom left, select Developer settings > Personal access tokens > check all boxes and generate the token. Enter the token\").ToString()\n",
    "# App service plan name\n",
    "$appServicePlanName = (Get-AzAppServicePlan -resourceGroupName $resourceGroupName).Name"
   ]
  },
  {
   "cell_type": "code",
   "execution_count": null,
   "metadata": {
    "vscode": {
     "languageId": "powershell"
    }
   },
   "outputs": [],
   "source": [
    "# Deploy Azure static web app\n",
    "$staticWebApp = az staticwebapp create -n $webAppName -g $resourceGroupName `\n",
    "-s $appRepository -l 'westus2' -b main --token $githubToken\n",
    "Write-Host \"Azure Static Web App deployed.\""
   ]
  },
  {
   "attachments": {},
   "cell_type": "markdown",
   "metadata": {},
   "source": [
    "# Step 10: Set up GitHub Actions & Workflow\n",
    "- Make sure the the location of the static web app client/api/python and configured\n",
    "    - Make sure the language of the function app is correct\n",
    "- Double check the connection string is in ADO.NET formatting"
   ]
  },
  {
   "attachments": {},
   "cell_type": "markdown",
   "metadata": {},
   "source": [
    "# Step 11: Set Up Query Information"
   ]
  },
  {
   "cell_type": "code",
   "execution_count": null,
   "metadata": {
    "vscode": {
     "languageId": "sql"
    }
   },
   "outputs": [],
   "source": [
    "ALTER DATABASE SCOPED CREDENTIAL AzureBlobCredentials\n",
    "WITH IDENTITY = 'SHARED ACCESS SIGNATURE',\n",
    "SECRET = 'sp=r&st=2021-03-12T00:47:24Z&se=2025-03-11T07:47:24Z&spr=https&sv=2020-02-10&sr=c&sig=BmuxFevKhWgbvo%2Bj8TlLYObjbB7gbvWzQaAgvGcg50c%3D';\n",
    "DROP EXTERNAL DATA SOURCE RouteData;\n",
    "CREATE EXTERNAL DATA SOURCE RouteData\n",
    "WITH (\n",
    "    TYPE = blob_storage,\n",
    "    LOCATION = 'https://azuresqlworkshopsa.blob.core.windows.net/bus',\n",
    "    CREDENTIAL = AzureBlobCredentials\n",
    ");\n",
    "DELETE FROM dbo.[Routes];\n",
    "INSERT INTO dbo.[Routes]\n",
    "([Id], [AgencyId], [ShortName], [Description], [Type])\n",
    "SELECT \n",
    "[Id], [AgencyId], [ShortName], [Description], [Type]\n",
    "FROM\n",
    "openrowset\n",
    "(\n",
    "    bulk 'routes.txt', \n",
    "    data_source = 'RouteData', \n",
    "    formatfile = 'routes.fmt', \n",
    "    formatfile_data_source = 'RouteData', \n",
    "    firstrow=2,\n",
    "    format='csv'\n",
    ") t;\n",
    "SET QUOTED_IDENTIFIER ON;\n",
    "SET ANSI_NULLS ON;\n",
    "INSERT INTO dbo.[GeoFences] \n",
    "    ([Name], [GeoFence]) \n",
    "VALUES\n",
    "    ('Crossroads', 0xE6100000010407000000B4A78EA822CF4740E8D7539530895EC03837D51CEACE4740E80BFBE630895EC0ECD7DF53EACE4740E81B2C50F0885EC020389F0D03CF4740E99BD2A1F0885EC00CB8BEB203CF4740E9DB04FC23895EC068C132B920CF4740E9DB04FC23895EC0B4A78EA822CF4740E8D7539530895EC001000000020000000001000000FFFFFFFF0000000003);\n",
    "INSERT INTO dbo.[MonitoredRoutes] (RouteId) VALUES (100113);\n",
    "GO"
   ]
  }
 ],
 "metadata": {
  "kernelspec": {
   "display_name": "Python 3",
   "language": "python",
   "name": "python3"
  },
  "language_info": {
   "codemirror_mode": {
    "name": "ipython",
    "version": 3
   },
   "file_extension": ".py",
   "mimetype": "text/x-python",
   "name": "python",
   "nbconvert_exporter": "python",
   "pygments_lexer": "ipython3",
   "version": "3.10.10"
  },
  "orig_nbformat": 4
 },
 "nbformat": 4,
 "nbformat_minor": 2
}
